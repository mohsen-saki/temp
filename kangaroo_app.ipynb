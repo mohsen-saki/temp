{
  "nbformat": 4,
  "nbformat_minor": 0,
  "metadata": {
    "colab": {
      "name": "kangaroo_app.ipynb",
      "provenance": [],
      "collapsed_sections": []
    },
    "kernelspec": {
      "name": "python3",
      "display_name": "Python 3"
    },
    "accelerator": "GPU",
    "widgets": {
      "application/vnd.jupyter.widget-state+json": {
        "b0a337d200974895a46aa263e3b44f25": {
          "model_module": "@jupyter-widgets/controls",
          "model_name": "VBoxModel",
          "state": {
            "_view_name": "VBoxView",
            "_dom_classes": [],
            "_model_name": "VBoxModel",
            "_view_module": "@jupyter-widgets/controls",
            "_model_module_version": "1.5.0",
            "_view_count": null,
            "_view_module_version": "1.5.0",
            "box_style": "",
            "layout": "IPY_MODEL_0490e3cc835b4bbbb08c5eea31d89f01",
            "_model_module": "@jupyter-widgets/controls",
            "children": [
              "IPY_MODEL_1dc2d5526fe6405cbb82320abf3f9792",
              "IPY_MODEL_2ec1039ae8b94e2ba20fc0f95dd10ea2",
              "IPY_MODEL_26b9a503538949df8eb661b03984d454",
              "IPY_MODEL_4bfdae3e488149e0908d658134cb41ea",
              "IPY_MODEL_5bbd9d0eb66b4660b241d4f2708751ca"
            ]
          }
        },
        "0490e3cc835b4bbbb08c5eea31d89f01": {
          "model_module": "@jupyter-widgets/base",
          "model_name": "LayoutModel",
          "state": {
            "_view_name": "LayoutView",
            "grid_template_rows": null,
            "right": null,
            "justify_content": null,
            "_view_module": "@jupyter-widgets/base",
            "overflow": null,
            "_model_module_version": "1.2.0",
            "_view_count": null,
            "flex_flow": null,
            "width": null,
            "min_width": null,
            "border": null,
            "align_items": null,
            "bottom": null,
            "_model_module": "@jupyter-widgets/base",
            "top": null,
            "grid_column": null,
            "overflow_y": null,
            "overflow_x": null,
            "grid_auto_flow": null,
            "grid_area": null,
            "grid_template_columns": null,
            "flex": null,
            "_model_name": "LayoutModel",
            "justify_items": null,
            "grid_row": null,
            "max_height": null,
            "align_content": null,
            "visibility": null,
            "align_self": null,
            "height": null,
            "min_height": null,
            "padding": null,
            "grid_auto_rows": null,
            "grid_gap": null,
            "max_width": null,
            "order": null,
            "_view_module_version": "1.2.0",
            "grid_template_areas": null,
            "object_position": null,
            "object_fit": null,
            "grid_auto_columns": null,
            "margin": null,
            "display": null,
            "left": null
          }
        },
        "1dc2d5526fe6405cbb82320abf3f9792": {
          "model_module": "@jupyter-widgets/controls",
          "model_name": "LabelModel",
          "state": {
            "_view_name": "LabelView",
            "style": "IPY_MODEL_00271052010443b2b302cc4bdeed8413",
            "_dom_classes": [],
            "description": "",
            "_model_name": "LabelModel",
            "placeholder": "​",
            "_view_module": "@jupyter-widgets/controls",
            "_model_module_version": "1.5.0",
            "value": "Select your bear!",
            "_view_count": null,
            "_view_module_version": "1.5.0",
            "description_tooltip": null,
            "_model_module": "@jupyter-widgets/controls",
            "layout": "IPY_MODEL_e3d5a36737ac4c36b5333b9296262e0d"
          }
        },
        "2ec1039ae8b94e2ba20fc0f95dd10ea2": {
          "model_module": "@jupyter-widgets/controls",
          "model_name": "FileUploadModel",
          "state": {
            "_view_name": "FileUploadView",
            "_counter": 1,
            "style": "IPY_MODEL_554272ae08ed4f51b42e4314c12a499f",
            "_dom_classes": [],
            "description": "Upload",
            "multiple": false,
            "_model_name": "FileUploadModel",
            "data": [
              null
            ],
            "button_style": "",
            "_view_module": "@jupyter-widgets/controls",
            "_model_module_version": "1.5.0",
            "accept": "",
            "_view_count": null,
            "disabled": false,
            "_view_module_version": "1.5.0",
            "error": "",
            "description_tooltip": null,
            "metadata": [
              {
                "name": "sir kangaroo.jpg",
                "type": "image/jpeg",
                "size": 382843,
                "lastModified": 1607382524000
              }
            ],
            "_model_module": "@jupyter-widgets/controls",
            "layout": "IPY_MODEL_5b24a72d86a2455eaf44f8f148f43519",
            "icon": "upload"
          }
        },
        "26b9a503538949df8eb661b03984d454": {
          "model_module": "@jupyter-widgets/controls",
          "model_name": "ButtonModel",
          "state": {
            "_view_name": "ButtonView",
            "style": "IPY_MODEL_51ba4f98a43b45f0b7e9627864f8e77b",
            "_dom_classes": [],
            "description": "Classify",
            "_model_name": "ButtonModel",
            "button_style": "",
            "_view_module": "@jupyter-widgets/controls",
            "_model_module_version": "1.5.0",
            "tooltip": "",
            "_view_count": null,
            "disabled": false,
            "_view_module_version": "1.5.0",
            "layout": "IPY_MODEL_9d31e85df91d47f7901ad57f57adc740",
            "_model_module": "@jupyter-widgets/controls",
            "icon": ""
          }
        },
        "4bfdae3e488149e0908d658134cb41ea": {
          "model_module": "@jupyter-widgets/output",
          "model_name": "OutputModel",
          "state": {
            "_view_name": "OutputView",
            "msg_id": "",
            "_dom_classes": [],
            "_model_name": "OutputModel",
            "outputs": [
              {
                "output_type": "display_data",
                "metadata": {
                  "tags": []
                },
                "image/png": "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\n",
                "text/plain": "<PIL.Image.Image image mode=RGB size=128x85 at 0x7F056210A4E0>"
              }
            ],
            "_view_module": "@jupyter-widgets/output",
            "_model_module_version": "1.0.0",
            "_view_count": null,
            "_view_module_version": "1.0.0",
            "layout": "IPY_MODEL_d7c538276df44119b96b8d3a2a632ab7",
            "_model_module": "@jupyter-widgets/output"
          }
        },
        "5bbd9d0eb66b4660b241d4f2708751ca": {
          "model_module": "@jupyter-widgets/controls",
          "model_name": "LabelModel",
          "state": {
            "_view_name": "LabelView",
            "style": "IPY_MODEL_3d56b5038dcd4b9b992bb12814c13b6d",
            "_dom_classes": [],
            "description": "",
            "_model_name": "LabelModel",
            "placeholder": "​",
            "_view_module": "@jupyter-widgets/controls",
            "_model_module_version": "1.5.0",
            "value": "Prediction : red, Probability : 0.9999",
            "_view_count": null,
            "_view_module_version": "1.5.0",
            "description_tooltip": null,
            "_model_module": "@jupyter-widgets/controls",
            "layout": "IPY_MODEL_d991db3dd3df44cf9d10cad307d34c9b"
          }
        },
        "00271052010443b2b302cc4bdeed8413": {
          "model_module": "@jupyter-widgets/controls",
          "model_name": "DescriptionStyleModel",
          "state": {
            "_view_name": "StyleView",
            "_model_name": "DescriptionStyleModel",
            "description_width": "",
            "_view_module": "@jupyter-widgets/base",
            "_model_module_version": "1.5.0",
            "_view_count": null,
            "_view_module_version": "1.2.0",
            "_model_module": "@jupyter-widgets/controls"
          }
        },
        "e3d5a36737ac4c36b5333b9296262e0d": {
          "model_module": "@jupyter-widgets/base",
          "model_name": "LayoutModel",
          "state": {
            "_view_name": "LayoutView",
            "grid_template_rows": null,
            "right": null,
            "justify_content": null,
            "_view_module": "@jupyter-widgets/base",
            "overflow": null,
            "_model_module_version": "1.2.0",
            "_view_count": null,
            "flex_flow": null,
            "width": null,
            "min_width": null,
            "border": null,
            "align_items": null,
            "bottom": null,
            "_model_module": "@jupyter-widgets/base",
            "top": null,
            "grid_column": null,
            "overflow_y": null,
            "overflow_x": null,
            "grid_auto_flow": null,
            "grid_area": null,
            "grid_template_columns": null,
            "flex": null,
            "_model_name": "LayoutModel",
            "justify_items": null,
            "grid_row": null,
            "max_height": null,
            "align_content": null,
            "visibility": null,
            "align_self": null,
            "height": null,
            "min_height": null,
            "padding": null,
            "grid_auto_rows": null,
            "grid_gap": null,
            "max_width": null,
            "order": null,
            "_view_module_version": "1.2.0",
            "grid_template_areas": null,
            "object_position": null,
            "object_fit": null,
            "grid_auto_columns": null,
            "margin": null,
            "display": null,
            "left": null
          }
        },
        "554272ae08ed4f51b42e4314c12a499f": {
          "model_module": "@jupyter-widgets/controls",
          "model_name": "ButtonStyleModel",
          "state": {
            "_view_name": "StyleView",
            "_model_name": "ButtonStyleModel",
            "_view_module": "@jupyter-widgets/base",
            "_model_module_version": "1.5.0",
            "_view_count": null,
            "button_color": null,
            "font_weight": "",
            "_view_module_version": "1.2.0",
            "_model_module": "@jupyter-widgets/controls"
          }
        },
        "5b24a72d86a2455eaf44f8f148f43519": {
          "model_module": "@jupyter-widgets/base",
          "model_name": "LayoutModel",
          "state": {
            "_view_name": "LayoutView",
            "grid_template_rows": null,
            "right": null,
            "justify_content": null,
            "_view_module": "@jupyter-widgets/base",
            "overflow": null,
            "_model_module_version": "1.2.0",
            "_view_count": null,
            "flex_flow": null,
            "width": null,
            "min_width": null,
            "border": null,
            "align_items": null,
            "bottom": null,
            "_model_module": "@jupyter-widgets/base",
            "top": null,
            "grid_column": null,
            "overflow_y": null,
            "overflow_x": null,
            "grid_auto_flow": null,
            "grid_area": null,
            "grid_template_columns": null,
            "flex": null,
            "_model_name": "LayoutModel",
            "justify_items": null,
            "grid_row": null,
            "max_height": null,
            "align_content": null,
            "visibility": null,
            "align_self": null,
            "height": null,
            "min_height": null,
            "padding": null,
            "grid_auto_rows": null,
            "grid_gap": null,
            "max_width": null,
            "order": null,
            "_view_module_version": "1.2.0",
            "grid_template_areas": null,
            "object_position": null,
            "object_fit": null,
            "grid_auto_columns": null,
            "margin": null,
            "display": null,
            "left": null
          }
        },
        "51ba4f98a43b45f0b7e9627864f8e77b": {
          "model_module": "@jupyter-widgets/controls",
          "model_name": "ButtonStyleModel",
          "state": {
            "_view_name": "StyleView",
            "_model_name": "ButtonStyleModel",
            "_view_module": "@jupyter-widgets/base",
            "_model_module_version": "1.5.0",
            "_view_count": null,
            "button_color": null,
            "font_weight": "",
            "_view_module_version": "1.2.0",
            "_model_module": "@jupyter-widgets/controls"
          }
        },
        "9d31e85df91d47f7901ad57f57adc740": {
          "model_module": "@jupyter-widgets/base",
          "model_name": "LayoutModel",
          "state": {
            "_view_name": "LayoutView",
            "grid_template_rows": null,
            "right": null,
            "justify_content": null,
            "_view_module": "@jupyter-widgets/base",
            "overflow": null,
            "_model_module_version": "1.2.0",
            "_view_count": null,
            "flex_flow": null,
            "width": null,
            "min_width": null,
            "border": null,
            "align_items": null,
            "bottom": null,
            "_model_module": "@jupyter-widgets/base",
            "top": null,
            "grid_column": null,
            "overflow_y": null,
            "overflow_x": null,
            "grid_auto_flow": null,
            "grid_area": null,
            "grid_template_columns": null,
            "flex": null,
            "_model_name": "LayoutModel",
            "justify_items": null,
            "grid_row": null,
            "max_height": null,
            "align_content": null,
            "visibility": null,
            "align_self": null,
            "height": null,
            "min_height": null,
            "padding": null,
            "grid_auto_rows": null,
            "grid_gap": null,
            "max_width": null,
            "order": null,
            "_view_module_version": "1.2.0",
            "grid_template_areas": null,
            "object_position": null,
            "object_fit": null,
            "grid_auto_columns": null,
            "margin": null,
            "display": null,
            "left": null
          }
        },
        "3d56b5038dcd4b9b992bb12814c13b6d": {
          "model_module": "@jupyter-widgets/controls",
          "model_name": "DescriptionStyleModel",
          "state": {
            "_view_name": "StyleView",
            "_model_name": "DescriptionStyleModel",
            "description_width": "",
            "_view_module": "@jupyter-widgets/base",
            "_model_module_version": "1.5.0",
            "_view_count": null,
            "_view_module_version": "1.2.0",
            "_model_module": "@jupyter-widgets/controls"
          }
        },
        "d991db3dd3df44cf9d10cad307d34c9b": {
          "model_module": "@jupyter-widgets/base",
          "model_name": "LayoutModel",
          "state": {
            "_view_name": "LayoutView",
            "grid_template_rows": null,
            "right": null,
            "justify_content": null,
            "_view_module": "@jupyter-widgets/base",
            "overflow": null,
            "_model_module_version": "1.2.0",
            "_view_count": null,
            "flex_flow": null,
            "width": null,
            "min_width": null,
            "border": null,
            "align_items": null,
            "bottom": null,
            "_model_module": "@jupyter-widgets/base",
            "top": null,
            "grid_column": null,
            "overflow_y": null,
            "overflow_x": null,
            "grid_auto_flow": null,
            "grid_area": null,
            "grid_template_columns": null,
            "flex": null,
            "_model_name": "LayoutModel",
            "justify_items": null,
            "grid_row": null,
            "max_height": null,
            "align_content": null,
            "visibility": null,
            "align_self": null,
            "height": null,
            "min_height": null,
            "padding": null,
            "grid_auto_rows": null,
            "grid_gap": null,
            "max_width": null,
            "order": null,
            "_view_module_version": "1.2.0",
            "grid_template_areas": null,
            "object_position": null,
            "object_fit": null,
            "grid_auto_columns": null,
            "margin": null,
            "display": null,
            "left": null
          }
        },
        "d7c538276df44119b96b8d3a2a632ab7": {
          "model_module": "@jupyter-widgets/base",
          "model_name": "LayoutModel",
          "state": {
            "_view_name": "LayoutView",
            "grid_template_rows": null,
            "right": null,
            "justify_content": null,
            "_view_module": "@jupyter-widgets/base",
            "overflow": null,
            "_model_module_version": "1.2.0",
            "_view_count": null,
            "flex_flow": null,
            "width": null,
            "min_width": null,
            "border": null,
            "align_items": null,
            "bottom": null,
            "_model_module": "@jupyter-widgets/base",
            "top": null,
            "grid_column": null,
            "overflow_y": null,
            "overflow_x": null,
            "grid_auto_flow": null,
            "grid_area": null,
            "grid_template_columns": null,
            "flex": null,
            "_model_name": "LayoutModel",
            "justify_items": null,
            "grid_row": null,
            "max_height": null,
            "align_content": null,
            "visibility": null,
            "align_self": null,
            "height": null,
            "min_height": null,
            "padding": null,
            "grid_auto_rows": null,
            "grid_gap": null,
            "max_width": null,
            "order": null,
            "_view_module_version": "1.2.0",
            "grid_template_areas": null,
            "object_position": null,
            "object_fit": null,
            "grid_auto_columns": null,
            "margin": null,
            "display": null,
            "left": null
          }
        }
      }
    }
  },
  "cells": [
    {
      "cell_type": "code",
      "metadata": {
        "id": "ctDOFbAvt3p2"
      },
      "source": [
        "from fastai.vision.all import *\n",
        "from ipywidgets import widgets \n",
        "from fastai.vision.widgets import *"
      ],
      "execution_count": 5,
      "outputs": []
    },
    {
      "cell_type": "code",
      "metadata": {
        "colab": {
          "base_uri": "https://localhost:8080/",
          "height": 230,
          "referenced_widgets": [
            "b0a337d200974895a46aa263e3b44f25",
            "0490e3cc835b4bbbb08c5eea31d89f01",
            "1dc2d5526fe6405cbb82320abf3f9792",
            "2ec1039ae8b94e2ba20fc0f95dd10ea2",
            "26b9a503538949df8eb661b03984d454",
            "4bfdae3e488149e0908d658134cb41ea",
            "5bbd9d0eb66b4660b241d4f2708751ca",
            "00271052010443b2b302cc4bdeed8413",
            "e3d5a36737ac4c36b5333b9296262e0d",
            "554272ae08ed4f51b42e4314c12a499f",
            "5b24a72d86a2455eaf44f8f148f43519",
            "51ba4f98a43b45f0b7e9627864f8e77b",
            "9d31e85df91d47f7901ad57f57adc740",
            "3d56b5038dcd4b9b992bb12814c13b6d",
            "d991db3dd3df44cf9d10cad307d34c9b",
            "d7c538276df44119b96b8d3a2a632ab7"
          ]
        },
        "id": "mbv2ji7EzWQs",
        "outputId": "6038da23-9b5e-4905-af16-8eff3ee74a3b"
      },
      "source": [
        "def on_click_classify(change):\n",
        "  img = PILImage.create(btn_upload.data[0])\n",
        "  out_pl.clear_output()\n",
        "  with out_pl: display(img.to_thumb(128, 128))\n",
        "  pred, pred_idx, probs = learn_inf.predict(img)\n",
        "  lbl_pred.value = f'Prediction : {pred}, Probability : {probs[pred_idx]:.04f}'\n",
        "\n",
        "path = Path('gdrive/MyDrive/Colab Notebooks/practice_deep')\n",
        "learn_inf = load_learner('kangaroo_model.pkl')\n",
        "\n",
        "lbl_pred = widgets.Label()\n",
        "out_pl = widgets.Output()\n",
        "btn_upload = widgets.FileUpload()\n",
        "btn_run = widgets.Button(description='Classify')\n",
        "btn_run.on_click(on_click_classify)\n",
        "\n",
        "VBox([widgets.Label('Select your bear!'), \n",
        "      btn_upload, btn_run, out_pl, lbl_pred])"
      ],
      "execution_count": 5,
      "outputs": [
        {
          "output_type": "display_data",
          "data": {
            "application/vnd.jupyter.widget-view+json": {
              "model_id": "b0a337d200974895a46aa263e3b44f25",
              "version_minor": 0,
              "version_major": 2
            },
            "text/plain": [
              "VBox(children=(Label(value='Select your bear!'), FileUpload(value={}, description='Upload'), Button(descriptio…"
            ]
          },
          "metadata": {
            "tags": []
          }
        },
        {
          "output_type": "display_data",
          "data": {
            "text/html": [
              ""
            ],
            "text/plain": [
              "<IPython.core.display.HTML object>"
            ]
          },
          "metadata": {
            "tags": []
          }
        }
      ]
    }
  ]
}