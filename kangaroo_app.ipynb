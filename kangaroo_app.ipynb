{
  "nbformat": 4,
  "nbformat_minor": 0,
  "metadata": {
    "colab": {
      "name": "kangaroo_app.ipynb",
      "provenance": [],
      "collapsed_sections": [],
      "authorship_tag": "ABX9TyOjdmRScZD7aHaBeplvBS4w",
      "include_colab_link": true
    },
    "kernelspec": {
      "name": "python3",
      "display_name": "Python 3"
    },
    "accelerator": "GPU",
    "widgets": {
      "application/vnd.jupyter.widget-state+json": {
        "924e1875fdc341ce9ade13e81c4c6ece": {
          "model_module": "@jupyter-widgets/controls",
          "model_name": "VBoxModel",
          "state": {
            "_view_name": "VBoxView",
            "_dom_classes": [],
            "_model_name": "VBoxModel",
            "_view_module": "@jupyter-widgets/controls",
            "_model_module_version": "1.5.0",
            "_view_count": null,
            "_view_module_version": "1.5.0",
            "box_style": "",
            "layout": "IPY_MODEL_8d4a6c7b0fd34698a79c0422f41dba43",
            "_model_module": "@jupyter-widgets/controls",
            "children": [
              "IPY_MODEL_7b5e027a80904bf89123d65b28126df4",
              "IPY_MODEL_d60c1575e3334588979f966c84b0d848",
              "IPY_MODEL_0721cda28d7e4fa6aa697576297f582d",
              "IPY_MODEL_884a51e764ee4730819a7c87a05ca7b9",
              "IPY_MODEL_31352ae5511c46db9bfa9bb1b653f037"
            ]
          }
        },
        "8d4a6c7b0fd34698a79c0422f41dba43": {
          "model_module": "@jupyter-widgets/base",
          "model_name": "LayoutModel",
          "state": {
            "_view_name": "LayoutView",
            "grid_template_rows": null,
            "right": null,
            "justify_content": null,
            "_view_module": "@jupyter-widgets/base",
            "overflow": null,
            "_model_module_version": "1.2.0",
            "_view_count": null,
            "flex_flow": null,
            "width": null,
            "min_width": null,
            "border": null,
            "align_items": null,
            "bottom": null,
            "_model_module": "@jupyter-widgets/base",
            "top": null,
            "grid_column": null,
            "overflow_y": null,
            "overflow_x": null,
            "grid_auto_flow": null,
            "grid_area": null,
            "grid_template_columns": null,
            "flex": null,
            "_model_name": "LayoutModel",
            "justify_items": null,
            "grid_row": null,
            "max_height": null,
            "align_content": null,
            "visibility": null,
            "align_self": null,
            "height": null,
            "min_height": null,
            "padding": null,
            "grid_auto_rows": null,
            "grid_gap": null,
            "max_width": null,
            "order": null,
            "_view_module_version": "1.2.0",
            "grid_template_areas": null,
            "object_position": null,
            "object_fit": null,
            "grid_auto_columns": null,
            "margin": null,
            "display": null,
            "left": null
          }
        },
        "7b5e027a80904bf89123d65b28126df4": {
          "model_module": "@jupyter-widgets/controls",
          "model_name": "LabelModel",
          "state": {
            "_view_name": "LabelView",
            "style": "IPY_MODEL_d986df9de6fe444ba4149e5d960872ac",
            "_dom_classes": [],
            "description": "",
            "_model_name": "LabelModel",
            "placeholder": "​",
            "_view_module": "@jupyter-widgets/controls",
            "_model_module_version": "1.5.0",
            "value": "Select your bear!",
            "_view_count": null,
            "_view_module_version": "1.5.0",
            "description_tooltip": null,
            "_model_module": "@jupyter-widgets/controls",
            "layout": "IPY_MODEL_d25e5433bb9b489188776179357cdb62"
          }
        },
        "d60c1575e3334588979f966c84b0d848": {
          "model_module": "@jupyter-widgets/controls",
          "model_name": "FileUploadModel",
          "state": {
            "_view_name": "FileUploadView",
            "_counter": 2,
            "style": "IPY_MODEL_ca228cf3c073499a81cc4e99ae1336d0",
            "_dom_classes": [],
            "description": "Upload",
            "multiple": false,
            "_model_name": "FileUploadModel",
            "data": [
              null
            ],
            "button_style": "",
            "_view_module": "@jupyter-widgets/controls",
            "_model_module_version": "1.5.0",
            "accept": "",
            "_view_count": null,
            "disabled": false,
            "_view_module_version": "1.5.0",
            "error": "",
            "description_tooltip": null,
            "metadata": [
              {
                "name": "Roger.jpg",
                "type": "image/jpeg",
                "size": 151491,
                "lastModified": 1607380828000
              }
            ],
            "_model_module": "@jupyter-widgets/controls",
            "layout": "IPY_MODEL_bee85787724e4b10bda91e98a57b7b06",
            "icon": "upload"
          }
        },
        "0721cda28d7e4fa6aa697576297f582d": {
          "model_module": "@jupyter-widgets/controls",
          "model_name": "ButtonModel",
          "state": {
            "_view_name": "ButtonView",
            "style": "IPY_MODEL_2961dd76394a4f3999be2af507519e07",
            "_dom_classes": [],
            "description": "Classify",
            "_model_name": "ButtonModel",
            "button_style": "",
            "_view_module": "@jupyter-widgets/controls",
            "_model_module_version": "1.5.0",
            "tooltip": "",
            "_view_count": null,
            "disabled": false,
            "_view_module_version": "1.5.0",
            "layout": "IPY_MODEL_eb472fdc6e444cca91dd81d1894f81b0",
            "_model_module": "@jupyter-widgets/controls",
            "icon": ""
          }
        },
        "884a51e764ee4730819a7c87a05ca7b9": {
          "model_module": "@jupyter-widgets/output",
          "model_name": "OutputModel",
          "state": {
            "_view_name": "OutputView",
            "msg_id": "",
            "_dom_classes": [],
            "_model_name": "OutputModel",
            "outputs": [
              {
                "output_type": "display_data",
                "metadata": {
                  "tags": []
                },
                "image/png": "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\n",
                "text/plain": "<PIL.Image.Image image mode=RGB size=96x128 at 0x7F8027421A20>"
              }
            ],
            "_view_module": "@jupyter-widgets/output",
            "_model_module_version": "1.0.0",
            "_view_count": null,
            "_view_module_version": "1.0.0",
            "layout": "IPY_MODEL_a1959bb34f0d471a941987583b69648c",
            "_model_module": "@jupyter-widgets/output"
          }
        },
        "31352ae5511c46db9bfa9bb1b653f037": {
          "model_module": "@jupyter-widgets/controls",
          "model_name": "LabelModel",
          "state": {
            "_view_name": "LabelView",
            "style": "IPY_MODEL_83f411ed29e1454c834faefe63998be9",
            "_dom_classes": [],
            "description": "",
            "_model_name": "LabelModel",
            "placeholder": "​",
            "_view_module": "@jupyter-widgets/controls",
            "_model_module_version": "1.5.0",
            "value": "Prediction : nabarlek, Probability : 0.7051",
            "_view_count": null,
            "_view_module_version": "1.5.0",
            "description_tooltip": null,
            "_model_module": "@jupyter-widgets/controls",
            "layout": "IPY_MODEL_ebda2be0d209415086a1695c468b981f"
          }
        },
        "d986df9de6fe444ba4149e5d960872ac": {
          "model_module": "@jupyter-widgets/controls",
          "model_name": "DescriptionStyleModel",
          "state": {
            "_view_name": "StyleView",
            "_model_name": "DescriptionStyleModel",
            "description_width": "",
            "_view_module": "@jupyter-widgets/base",
            "_model_module_version": "1.5.0",
            "_view_count": null,
            "_view_module_version": "1.2.0",
            "_model_module": "@jupyter-widgets/controls"
          }
        },
        "d25e5433bb9b489188776179357cdb62": {
          "model_module": "@jupyter-widgets/base",
          "model_name": "LayoutModel",
          "state": {
            "_view_name": "LayoutView",
            "grid_template_rows": null,
            "right": null,
            "justify_content": null,
            "_view_module": "@jupyter-widgets/base",
            "overflow": null,
            "_model_module_version": "1.2.0",
            "_view_count": null,
            "flex_flow": null,
            "width": null,
            "min_width": null,
            "border": null,
            "align_items": null,
            "bottom": null,
            "_model_module": "@jupyter-widgets/base",
            "top": null,
            "grid_column": null,
            "overflow_y": null,
            "overflow_x": null,
            "grid_auto_flow": null,
            "grid_area": null,
            "grid_template_columns": null,
            "flex": null,
            "_model_name": "LayoutModel",
            "justify_items": null,
            "grid_row": null,
            "max_height": null,
            "align_content": null,
            "visibility": null,
            "align_self": null,
            "height": null,
            "min_height": null,
            "padding": null,
            "grid_auto_rows": null,
            "grid_gap": null,
            "max_width": null,
            "order": null,
            "_view_module_version": "1.2.0",
            "grid_template_areas": null,
            "object_position": null,
            "object_fit": null,
            "grid_auto_columns": null,
            "margin": null,
            "display": null,
            "left": null
          }
        },
        "ca228cf3c073499a81cc4e99ae1336d0": {
          "model_module": "@jupyter-widgets/controls",
          "model_name": "ButtonStyleModel",
          "state": {
            "_view_name": "StyleView",
            "_model_name": "ButtonStyleModel",
            "_view_module": "@jupyter-widgets/base",
            "_model_module_version": "1.5.0",
            "_view_count": null,
            "button_color": null,
            "font_weight": "",
            "_view_module_version": "1.2.0",
            "_model_module": "@jupyter-widgets/controls"
          }
        },
        "bee85787724e4b10bda91e98a57b7b06": {
          "model_module": "@jupyter-widgets/base",
          "model_name": "LayoutModel",
          "state": {
            "_view_name": "LayoutView",
            "grid_template_rows": null,
            "right": null,
            "justify_content": null,
            "_view_module": "@jupyter-widgets/base",
            "overflow": null,
            "_model_module_version": "1.2.0",
            "_view_count": null,
            "flex_flow": null,
            "width": null,
            "min_width": null,
            "border": null,
            "align_items": null,
            "bottom": null,
            "_model_module": "@jupyter-widgets/base",
            "top": null,
            "grid_column": null,
            "overflow_y": null,
            "overflow_x": null,
            "grid_auto_flow": null,
            "grid_area": null,
            "grid_template_columns": null,
            "flex": null,
            "_model_name": "LayoutModel",
            "justify_items": null,
            "grid_row": null,
            "max_height": null,
            "align_content": null,
            "visibility": null,
            "align_self": null,
            "height": null,
            "min_height": null,
            "padding": null,
            "grid_auto_rows": null,
            "grid_gap": null,
            "max_width": null,
            "order": null,
            "_view_module_version": "1.2.0",
            "grid_template_areas": null,
            "object_position": null,
            "object_fit": null,
            "grid_auto_columns": null,
            "margin": null,
            "display": null,
            "left": null
          }
        },
        "2961dd76394a4f3999be2af507519e07": {
          "model_module": "@jupyter-widgets/controls",
          "model_name": "ButtonStyleModel",
          "state": {
            "_view_name": "StyleView",
            "_model_name": "ButtonStyleModel",
            "_view_module": "@jupyter-widgets/base",
            "_model_module_version": "1.5.0",
            "_view_count": null,
            "button_color": null,
            "font_weight": "",
            "_view_module_version": "1.2.0",
            "_model_module": "@jupyter-widgets/controls"
          }
        },
        "eb472fdc6e444cca91dd81d1894f81b0": {
          "model_module": "@jupyter-widgets/base",
          "model_name": "LayoutModel",
          "state": {
            "_view_name": "LayoutView",
            "grid_template_rows": null,
            "right": null,
            "justify_content": null,
            "_view_module": "@jupyter-widgets/base",
            "overflow": null,
            "_model_module_version": "1.2.0",
            "_view_count": null,
            "flex_flow": null,
            "width": null,
            "min_width": null,
            "border": null,
            "align_items": null,
            "bottom": null,
            "_model_module": "@jupyter-widgets/base",
            "top": null,
            "grid_column": null,
            "overflow_y": null,
            "overflow_x": null,
            "grid_auto_flow": null,
            "grid_area": null,
            "grid_template_columns": null,
            "flex": null,
            "_model_name": "LayoutModel",
            "justify_items": null,
            "grid_row": null,
            "max_height": null,
            "align_content": null,
            "visibility": null,
            "align_self": null,
            "height": null,
            "min_height": null,
            "padding": null,
            "grid_auto_rows": null,
            "grid_gap": null,
            "max_width": null,
            "order": null,
            "_view_module_version": "1.2.0",
            "grid_template_areas": null,
            "object_position": null,
            "object_fit": null,
            "grid_auto_columns": null,
            "margin": null,
            "display": null,
            "left": null
          }
        },
        "83f411ed29e1454c834faefe63998be9": {
          "model_module": "@jupyter-widgets/controls",
          "model_name": "DescriptionStyleModel",
          "state": {
            "_view_name": "StyleView",
            "_model_name": "DescriptionStyleModel",
            "description_width": "",
            "_view_module": "@jupyter-widgets/base",
            "_model_module_version": "1.5.0",
            "_view_count": null,
            "_view_module_version": "1.2.0",
            "_model_module": "@jupyter-widgets/controls"
          }
        },
        "ebda2be0d209415086a1695c468b981f": {
          "model_module": "@jupyter-widgets/base",
          "model_name": "LayoutModel",
          "state": {
            "_view_name": "LayoutView",
            "grid_template_rows": null,
            "right": null,
            "justify_content": null,
            "_view_module": "@jupyter-widgets/base",
            "overflow": null,
            "_model_module_version": "1.2.0",
            "_view_count": null,
            "flex_flow": null,
            "width": null,
            "min_width": null,
            "border": null,
            "align_items": null,
            "bottom": null,
            "_model_module": "@jupyter-widgets/base",
            "top": null,
            "grid_column": null,
            "overflow_y": null,
            "overflow_x": null,
            "grid_auto_flow": null,
            "grid_area": null,
            "grid_template_columns": null,
            "flex": null,
            "_model_name": "LayoutModel",
            "justify_items": null,
            "grid_row": null,
            "max_height": null,
            "align_content": null,
            "visibility": null,
            "align_self": null,
            "height": null,
            "min_height": null,
            "padding": null,
            "grid_auto_rows": null,
            "grid_gap": null,
            "max_width": null,
            "order": null,
            "_view_module_version": "1.2.0",
            "grid_template_areas": null,
            "object_position": null,
            "object_fit": null,
            "grid_auto_columns": null,
            "margin": null,
            "display": null,
            "left": null
          }
        },
        "a1959bb34f0d471a941987583b69648c": {
          "model_module": "@jupyter-widgets/base",
          "model_name": "LayoutModel",
          "state": {
            "_view_name": "LayoutView",
            "grid_template_rows": null,
            "right": null,
            "justify_content": null,
            "_view_module": "@jupyter-widgets/base",
            "overflow": null,
            "_model_module_version": "1.2.0",
            "_view_count": null,
            "flex_flow": null,
            "width": null,
            "min_width": null,
            "border": null,
            "align_items": null,
            "bottom": null,
            "_model_module": "@jupyter-widgets/base",
            "top": null,
            "grid_column": null,
            "overflow_y": null,
            "overflow_x": null,
            "grid_auto_flow": null,
            "grid_area": null,
            "grid_template_columns": null,
            "flex": null,
            "_model_name": "LayoutModel",
            "justify_items": null,
            "grid_row": null,
            "max_height": null,
            "align_content": null,
            "visibility": null,
            "align_self": null,
            "height": null,
            "min_height": null,
            "padding": null,
            "grid_auto_rows": null,
            "grid_gap": null,
            "max_width": null,
            "order": null,
            "_view_module_version": "1.2.0",
            "grid_template_areas": null,
            "object_position": null,
            "object_fit": null,
            "grid_auto_columns": null,
            "margin": null,
            "display": null,
            "left": null
          }
        }
      }
    }
  },
  "cells": [
    {
      "cell_type": "markdown",
      "metadata": {
        "id": "view-in-github",
        "colab_type": "text"
      },
      "source": [
        "<a href=\"https://colab.research.google.com/github/mohsen-saki/temp/blob/master/kangaroo_app.ipynb\" target=\"_parent\"><img src=\"https://colab.research.google.com/assets/colab-badge.svg\" alt=\"Open In Colab\"/></a>"
      ]
    },
    {
      "cell_type": "code",
      "metadata": {
        "colab": {
          "base_uri": "https://localhost:8080/"
        },
        "id": "ctDOFbAvt3p2",
        "outputId": "b099f7bf-cb5e-4c1b-85b3-8d6b26214122"
      },
      "source": [
        "!pip install -Uqq fastbook\n",
        "import fastbook\n",
        "fastbook.setup_book()"
      ],
      "execution_count": 1,
      "outputs": [
        {
          "output_type": "stream",
          "text": [
            "\u001b[K     |████████████████████████████████| 727kB 11.7MB/s \n",
            "\u001b[K     |████████████████████████████████| 194kB 12.8MB/s \n",
            "\u001b[K     |████████████████████████████████| 51kB 5.9MB/s \n",
            "\u001b[K     |████████████████████████████████| 1.1MB 23.3MB/s \n",
            "\u001b[K     |████████████████████████████████| 61kB 6.6MB/s \n",
            "\u001b[?25hMounted at /content/gdrive\n"
          ],
          "name": "stdout"
        }
      ]
    },
    {
      "cell_type": "code",
      "metadata": {
        "id": "odeNlOdKyf3V"
      },
      "source": [
        "from fastbook import *\n",
        "from fastai.vision.widgets import *"
      ],
      "execution_count": 3,
      "outputs": []
    },
    {
      "cell_type": "code",
      "metadata": {
        "id": "Ko8hTeJCuntJ"
      },
      "source": [
        "!pip install viola\n",
        "!jupyter serverextension enable voila —sys-prefix"
      ],
      "execution_count": null,
      "outputs": []
    },
    {
      "cell_type": "code",
      "metadata": {
        "colab": {
          "base_uri": "https://localhost:8080/",
          "height": 273,
          "referenced_widgets": [
            "924e1875fdc341ce9ade13e81c4c6ece",
            "8d4a6c7b0fd34698a79c0422f41dba43",
            "7b5e027a80904bf89123d65b28126df4",
            "d60c1575e3334588979f966c84b0d848",
            "0721cda28d7e4fa6aa697576297f582d",
            "884a51e764ee4730819a7c87a05ca7b9",
            "31352ae5511c46db9bfa9bb1b653f037",
            "d986df9de6fe444ba4149e5d960872ac",
            "d25e5433bb9b489188776179357cdb62",
            "ca228cf3c073499a81cc4e99ae1336d0",
            "bee85787724e4b10bda91e98a57b7b06",
            "2961dd76394a4f3999be2af507519e07",
            "eb472fdc6e444cca91dd81d1894f81b0",
            "83f411ed29e1454c834faefe63998be9",
            "ebda2be0d209415086a1695c468b981f",
            "a1959bb34f0d471a941987583b69648c"
          ]
        },
        "id": "mbv2ji7EzWQs",
        "outputId": "c9ee139b-6f0e-4734-9e7b-20f1786914e2"
      },
      "source": [
        "def on_click_classify(change):\n",
        "  img = PILImage.create(btn_upload.data[0])\n",
        "  out_pl.clear_output()\n",
        "  with out_pl: display(img.to_thumb(128, 128))\n",
        "  pred, pred_idx, probs = learn_inf.predict(img)\n",
        "  lbl_pred.value = f'Prediction : {pred}, Probability : {probs[pred_idx]:.04f}'\n",
        "\n",
        "path = Path('gdrive/MyDrive/Colab Notebooks/practice_deep')\n",
        "learn_inf = load_learner(path/'kangaroo_model.pkl')\n",
        "\n",
        "lbl_pred = widgets.Label()\n",
        "out_pl = widgets.Output()\n",
        "btn_upload = widgets.FileUpload()\n",
        "btn_run = widgets.Button(description='Classify')\n",
        "btn_run.on_click(on_click_classify)\n",
        "\n",
        "VBox([widgets.Label('Select your bear!'), \n",
        "      btn_upload, btn_run, out_pl, lbl_pred])"
      ],
      "execution_count": 9,
      "outputs": [
        {
          "output_type": "display_data",
          "data": {
            "application/vnd.jupyter.widget-view+json": {
              "model_id": "924e1875fdc341ce9ade13e81c4c6ece",
              "version_minor": 0,
              "version_major": 2
            },
            "text/plain": [
              "VBox(children=(Label(value='Select your bear!'), FileUpload(value={}, description='Upload'), Button(descriptio…"
            ]
          },
          "metadata": {
            "tags": []
          }
        },
        {
          "output_type": "display_data",
          "data": {
            "text/html": [
              ""
            ],
            "text/plain": [
              "<IPython.core.display.HTML object>"
            ]
          },
          "metadata": {
            "tags": []
          }
        },
        {
          "output_type": "display_data",
          "data": {
            "text/html": [
              ""
            ],
            "text/plain": [
              "<IPython.core.display.HTML object>"
            ]
          },
          "metadata": {
            "tags": []
          }
        }
      ]
    }
  ]
}