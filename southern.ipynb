{
 "cells": [
  {
   "cell_type": "markdown",
   "metadata": {},
   "source": [
    "### Visualizing COVID-19 Cases for some of southern_hemisphere countries\n",
    "\n",
    "__What do you reckon?__\n",
    "\n",
    "Considering just numbers, seems `southern_hemisphere countries` are basically doing well on containing `COVID-19` (Brazil seems a bit too soon to judge though). But what if `seasonality` is a huge factor !?\n",
    "\n",
    "coronavirus business_as_usual in winter is to skyrocket. Isn’t it?\n",
    "\n",
    "I speculate that novel #coronavirus is here to stay for a while.\n",
    "\n",
    "__Data Source__; [Johns Hopkins University](https://github.com/CSSEGISandData/COVID-19)\n",
    "\n",
    "-------"
   ]
  },
  {
   "cell_type": "code",
   "execution_count": 1,
   "metadata": {},
   "outputs": [],
   "source": [
    "import requests\n",
    "import pandas as pd\n",
    "import numpy as np\n",
    "\n",
    "import matplotlib.pyplot as plt"
   ]
  },
  {
   "cell_type": "markdown",
   "metadata": {},
   "source": [
    "------------------\n",
    "### Acquiring data and save on local machine"
   ]
  },
  {
   "cell_type": "code",
   "execution_count": 2,
   "metadata": {},
   "outputs": [],
   "source": [
    "url = 'https://raw.githubusercontent.com/CSSEGISandData/COVID-19/master/csse_covid_19_data/csse_covid_19_time_series/time_series_covid19_confirmed_global.csv'\n",
    "filename = 'covid19_cases.csv'\n",
    "\n",
    "def get_data(url, filename):\n",
    "    \"\"\"\n",
    "    \n",
    "    :param url: url for targeted file to be downloaded\n",
    "    :param filename: user specified name for downloaded file\n",
    "    :return: save downloaded file on lochal machine\n",
    "    \"\"\"\n",
    "    infile = requests.get(url, allow_redirects=True)\n",
    "    with open(filename, 'wb') as outfile:\n",
    "        outfile.write(infile.content)\n",
    "    \n",
    "\n",
    "get_data(url, filename)"
   ]
  },
  {
   "cell_type": "markdown",
   "metadata": {},
   "source": [
    "---------------\n",
    "### Data Preparation"
   ]
  },
  {
   "cell_type": "code",
   "execution_count": 3,
   "metadata": {},
   "outputs": [
    {
     "data": {
      "text/html": [
       "<div>\n",
       "<style scoped>\n",
       "    .dataframe tbody tr th:only-of-type {\n",
       "        vertical-align: middle;\n",
       "    }\n",
       "\n",
       "    .dataframe tbody tr th {\n",
       "        vertical-align: top;\n",
       "    }\n",
       "\n",
       "    .dataframe thead th {\n",
       "        text-align: right;\n",
       "    }\n",
       "</style>\n",
       "<table border=\"1\" class=\"dataframe\">\n",
       "  <thead>\n",
       "    <tr style=\"text-align: right;\">\n",
       "      <th></th>\n",
       "      <th>date</th>\n",
       "      <th>country</th>\n",
       "      <th>total_cases</th>\n",
       "    </tr>\n",
       "  </thead>\n",
       "  <tbody>\n",
       "    <tr>\n",
       "      <th>0</th>\n",
       "      <td>2020-01-22</td>\n",
       "      <td>Afghanistan</td>\n",
       "      <td>0</td>\n",
       "    </tr>\n",
       "    <tr>\n",
       "      <th>1</th>\n",
       "      <td>2020-01-23</td>\n",
       "      <td>Afghanistan</td>\n",
       "      <td>0</td>\n",
       "    </tr>\n",
       "    <tr>\n",
       "      <th>2</th>\n",
       "      <td>2020-01-24</td>\n",
       "      <td>Afghanistan</td>\n",
       "      <td>0</td>\n",
       "    </tr>\n",
       "    <tr>\n",
       "      <th>3</th>\n",
       "      <td>2020-01-25</td>\n",
       "      <td>Afghanistan</td>\n",
       "      <td>0</td>\n",
       "    </tr>\n",
       "    <tr>\n",
       "      <th>4</th>\n",
       "      <td>2020-01-26</td>\n",
       "      <td>Afghanistan</td>\n",
       "      <td>0</td>\n",
       "    </tr>\n",
       "  </tbody>\n",
       "</table>\n",
       "</div>"
      ],
      "text/plain": [
       "        date      country  total_cases\n",
       "0 2020-01-22  Afghanistan            0\n",
       "1 2020-01-23  Afghanistan            0\n",
       "2 2020-01-24  Afghanistan            0\n",
       "3 2020-01-25  Afghanistan            0\n",
       "4 2020-01-26  Afghanistan            0"
      ]
     },
     "execution_count": 3,
     "metadata": {},
     "output_type": "execute_result"
    }
   ],
   "source": [
    "def load_data(filename):\n",
    "    \n",
    "    \"\"\"\n",
    "    \n",
    "    to load data from local machine into a pandas' Dataframe\n",
    "    to carry on some cleaning, aggregating data for \n",
    "    each country, reshape, and casting right data type\n",
    "    \n",
    "    :param filename: file on lochal machine\n",
    "    :return: wrangled dataframe\n",
    "    \"\"\"\n",
    "    df = pd.read_csv(filename)\n",
    "    df.drop(labels=['Province/State', 'Lat', 'Long'], axis=1, inplace=True)\n",
    "    df = df.groupby(['Country/Region']).sum()\n",
    "    df = df.stack().reset_index()\n",
    "    df.rename(mapper={'Country/Region' : 'country', 'level_1' : 'date', 0 : 'total_cases'}, axis=1, inplace=True)\n",
    "    df['date'] = pd.to_datetime(df['date'])\n",
    "    df = df[['date', 'country', 'total_cases']]\n",
    "    \n",
    "    return df\n",
    "\n",
    "df = load_data(filename)\n",
    "df.head()"
   ]
  },
  {
   "cell_type": "markdown",
   "metadata": {},
   "source": [
    "-----------\n",
    "### Calculate daily cases for each country"
   ]
  },
  {
   "cell_type": "code",
   "execution_count": 4,
   "metadata": {
    "scrolled": true
   },
   "outputs": [
    {
     "name": "stderr",
     "output_type": "stream",
     "text": [
      "/home/sakima/anaconda3/lib/python3.7/site-packages/pandas/core/indexing.py:205: SettingWithCopyWarning: \n",
      "A value is trying to be set on a copy of a slice from a DataFrame\n",
      "\n",
      "See the caveats in the documentation: http://pandas.pydata.org/pandas-docs/stable/user_guide/indexing.html#returning-a-view-versus-a-copy\n",
      "  self._setitem_with_indexer(indexer, value)\n"
     ]
    },
    {
     "data": {
      "text/html": [
       "<div>\n",
       "<style scoped>\n",
       "    .dataframe tbody tr th:only-of-type {\n",
       "        vertical-align: middle;\n",
       "    }\n",
       "\n",
       "    .dataframe tbody tr th {\n",
       "        vertical-align: top;\n",
       "    }\n",
       "\n",
       "    .dataframe thead th {\n",
       "        text-align: right;\n",
       "    }\n",
       "</style>\n",
       "<table border=\"1\" class=\"dataframe\">\n",
       "  <thead>\n",
       "    <tr style=\"text-align: right;\">\n",
       "      <th></th>\n",
       "      <th>country</th>\n",
       "      <th>total_cases</th>\n",
       "      <th>daily_cases</th>\n",
       "    </tr>\n",
       "    <tr>\n",
       "      <th>date</th>\n",
       "      <th></th>\n",
       "      <th></th>\n",
       "      <th></th>\n",
       "    </tr>\n",
       "  </thead>\n",
       "  <tbody>\n",
       "    <tr>\n",
       "      <th>2020-01-22</th>\n",
       "      <td>Afghanistan</td>\n",
       "      <td>0</td>\n",
       "      <td>NaN</td>\n",
       "    </tr>\n",
       "    <tr>\n",
       "      <th>2020-01-23</th>\n",
       "      <td>Afghanistan</td>\n",
       "      <td>0</td>\n",
       "      <td>0.0</td>\n",
       "    </tr>\n",
       "    <tr>\n",
       "      <th>2020-01-24</th>\n",
       "      <td>Afghanistan</td>\n",
       "      <td>0</td>\n",
       "      <td>0.0</td>\n",
       "    </tr>\n",
       "    <tr>\n",
       "      <th>2020-01-25</th>\n",
       "      <td>Afghanistan</td>\n",
       "      <td>0</td>\n",
       "      <td>0.0</td>\n",
       "    </tr>\n",
       "    <tr>\n",
       "      <th>2020-01-26</th>\n",
       "      <td>Afghanistan</td>\n",
       "      <td>0</td>\n",
       "      <td>0.0</td>\n",
       "    </tr>\n",
       "  </tbody>\n",
       "</table>\n",
       "</div>"
      ],
      "text/plain": [
       "                country  total_cases  daily_cases\n",
       "date                                             \n",
       "2020-01-22  Afghanistan            0          NaN\n",
       "2020-01-23  Afghanistan            0          0.0\n",
       "2020-01-24  Afghanistan            0          0.0\n",
       "2020-01-25  Afghanistan            0          0.0\n",
       "2020-01-26  Afghanistan            0          0.0"
      ]
     },
     "execution_count": 4,
     "metadata": {},
     "output_type": "execute_result"
    }
   ],
   "source": [
    "def daily_cases(df):\n",
    "    \n",
    "    \"\"\"\n",
    "    \n",
    "    to calculate daily cases\n",
    "    :param df: pandas' dataframe object\n",
    "    :return: an altered dataframe object\n",
    "    \"\"\"\n",
    "    # to add a new empty column\n",
    "    df['daily_cases'] = np.nan\n",
    "\n",
    "    # to populate new column for each country\n",
    "    for nation in df.country.unique():\n",
    "        df['daily_cases'].loc[df.country == nation] = df[df.country == nation]['total_cases'].diff().values\n",
    "        \n",
    "    df.set_index('date', drop=True, inplace=True)\n",
    "    \n",
    "    return df\n",
    "\n",
    "df = daily_cases(df)\n",
    "df.head()"
   ]
  },
  {
   "cell_type": "markdown",
   "metadata": {},
   "source": [
    "### Visualization\n",
    "------"
   ]
  },
  {
   "cell_type": "code",
   "execution_count": 5,
   "metadata": {},
   "outputs": [
    {
     "name": "stderr",
     "output_type": "stream",
     "text": [
      "/home/sakima/anaconda3/lib/python3.7/site-packages/pandas/plotting/_matplotlib/converter.py:103: FutureWarning: Using an implicitly registered datetime converter for a matplotlib plotting method. The converter was registered by pandas on import. Future versions of pandas will require you to explicitly register matplotlib converters.\n",
      "\n",
      "To register the converters:\n",
      "\t>>> from pandas.plotting import register_matplotlib_converters\n",
      "\t>>> register_matplotlib_converters()\n",
      "  warnings.warn(msg, FutureWarning)\n"
     ]
    },
    {
     "data": {
      "image/png": "[encoded data removed]",
      "text/plain": [
       "<Figure size 1296x576 with 1 Axes>"
      ]
     },
     "metadata": {},
     "output_type": "display_data"
    }
   ],
   "source": [
    "southern_countries = ['Australia', 'New Zealand', 'South Africa', 'Argentina', 'Brazil']\n",
    "line_type = ['-', '--', '-.', '.', ':']\n",
    "line_color = ['r', 'b', 'k', 'g', 'm']\n",
    "\n",
    "with plt.style.context('ggplot'):\n",
    "    \n",
    "    fig, ax = plt.subplots(figsize=(18, 8))\n",
    "    \n",
    "    for index, nation in enumerate(southern_countries):\n",
    "        plt.plot(\n",
    "            df.loc[df.country == nation]['total_cases'],\n",
    "            line_type[index],\n",
    "            color = line_color[index],\n",
    "            linewidth = 2,\n",
    "            label = nation)\n",
    "    \n",
    "    ax.legend(loc='upper left', fontsize=12)\n",
    "    \n",
    "    plt.xticks(color='k', fontsize=12, rotation=90)\n",
    "    plt.yticks(color='k', fontsize=12)\n",
    "    \n",
    "    ax.set_xlabel(\"Timeline\", dict(color='k', fontsize=14))\n",
    "    ax.set_ylabel(\"Number of People Tested Positive\", dict(color='k', fontsize=14))\n",
    "    plt.title(\"Cumulative Confirmed Cases of COVID-19\", fontsize=16)\n",
    "    \n",
    "    \n",
    "plt.show()\n",
    "plt.close()"
   ]
  },
  {
   "cell_type": "code",
   "execution_count": null,
   "metadata": {},
   "outputs": [],
   "source": []
  }
 ],
 "metadata": {
  "kernelspec": {
   "display_name": "Python 3",
   "language": "python",
   "name": "python3"
  },
  "language_info": {
   "codemirror_mode": {
    "name": "ipython",
    "version": 3
   },
   "file_extension": ".py",
   "mimetype": "text/x-python",
   "name": "python",
   "nbconvert_exporter": "python",
   "pygments_lexer": "ipython3",
   "version": "3.7.5"
  }
 },
 "nbformat": 4,
 "nbformat_minor": 2
}
